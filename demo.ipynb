{
 "cells": [
  {
   "cell_type": "code",
   "execution_count": 1,
   "source": [
    "from smoothie.auth.AuthorizationHandler import AuthorizationHandler\n",
    "from smoothie.data_objects.User import User\n",
    "import aiohttp\n",
    "import urllib\n",
    "import getpass"
   ],
   "outputs": [],
   "metadata": {}
  },
  {
   "cell_type": "code",
   "execution_count": 2,
   "source": [
    "session = aiohttp.ClientSession()\n",
    "auth_handler = AuthorizationHandler(session)"
   ],
   "outputs": [],
   "metadata": {}
  },
  {
   "cell_type": "markdown",
   "source": [
    "Since Spotify requires a login page with user interaction, we'll need to perform this first step in a browser page. Copy and paste the result of the next cell into a browser and approve access to your Spotify account."
   ],
   "metadata": {}
  },
  {
   "cell_type": "code",
   "execution_count": 3,
   "source": [
    "print(f'https://accounts.spotify.com/authorize?client_id={auth_handler.spotify_client_id}&response_type=code&redirect_uri={urllib.parse.quote_plus(auth_handler._redirect_uri)}')"
   ],
   "outputs": [
    {
     "output_type": "stream",
     "name": "stdout",
     "text": [
      "https://accounts.spotify.com/authorize?client_id=c6571c2bc3f444a18ad0308ab4b712f3&response_type=code&redirect_uri=https%3A%2F%2Fgoogle.com\n"
     ]
    }
   ],
   "metadata": {}
  },
  {
   "cell_type": "markdown",
   "source": [
    "Now, in the resulting `google.com` url, copy all the text after `code=`, and enter it when prompted in the next cell"
   ],
   "metadata": {}
  },
  {
   "cell_type": "code",
   "execution_count": 5,
   "source": [
    "code = getpass.getpass(prompt='Code from URL? ')\n",
    "me = User(code=code)"
   ],
   "outputs": [],
   "metadata": {}
  },
  {
   "cell_type": "markdown",
   "source": [
    "Get access/refresh tokens for use with future API calls"
   ],
   "metadata": {}
  },
  {
   "cell_type": "code",
   "execution_count": 6,
   "source": [
    "await auth_handler.request_access_token(me)"
   ],
   "outputs": [
    {
     "output_type": "stream",
     "name": "stdout",
     "text": [
      "{'access_token': 'BQCR9f72QA3woDo9ojH-2UCrKm81b146ioQ0VtF-7VyUmaV4-vMKvpfNccK0LNFQSKDjwd5CNqGAbM8VuTd7v-tamZ9v8tI76fxOGv_HebXMkQyKRgLABy2airCLAdPqULLH5jkztfiJ4RaXwQXFpvJoirbFgWdEaQ', 'token_type': 'Bearer', 'expires_in': 3600, 'refresh_token': 'AQB9WBn-Bj636UfWWyXkq7IWEpXeqzJyKZdTtarTv-nfSj2ri5O7IBeb13pR4kUThmgWA-bG_S5b043CgVLZaMyV9ql7d9ZC4MQTswCuRps0WRhecRZqkIf6ctyeNneWMOA'}\n"
     ]
    }
   ],
   "metadata": {}
  },
  {
   "cell_type": "code",
   "execution_count": 12,
   "source": [
    "import dataclasses\n",
    "print(dataclasses.asdict(me))"
   ],
   "outputs": [
    {
     "output_type": "stream",
     "name": "stdout",
     "text": [
      "{'code': 'AQDXxjATVgHNjA7LvL53is4Q4K5GHjTn-l-ySe6ntkYsaU_n_luG10K09xGnVUtkzVYv6HobwTDfX6VEgoxzKDZLHAEue4gnoSqfCmxBlxc_AkbPCNm16jptXRehefprGrDudQkD4MDndwwvqWAjR9wuQi6cRg', 'access_token': 'BQCR9f72QA3woDo9ojH-2UCrKm81b146ioQ0VtF-7VyUmaV4-vMKvpfNccK0LNFQSKDjwd5CNqGAbM8VuTd7v-tamZ9v8tI76fxOGv_HebXMkQyKRgLABy2airCLAdPqULLH5jkztfiJ4RaXwQXFpvJoirbFgWdEaQ', 'refresh_token': 'AQB9WBn-Bj636UfWWyXkq7IWEpXeqzJyKZdTtarTv-nfSj2ri5O7IBeb13pR4kUThmgWA-bG_S5b043CgVLZaMyV9ql7d9ZC4MQTswCuRps0WRhecRZqkIf6ctyeNneWMOA', 'user_id': None, 'token_expiration_time': None}\n"
     ]
    }
   ],
   "metadata": {}
  },
  {
   "cell_type": "code",
   "execution_count": null,
   "source": [
    " "
   ],
   "outputs": [],
   "metadata": {}
  }
 ],
 "metadata": {
  "orig_nbformat": 4,
  "language_info": {
   "name": "python",
   "version": "3.8.10",
   "mimetype": "text/x-python",
   "codemirror_mode": {
    "name": "ipython",
    "version": 3
   },
   "pygments_lexer": "ipython3",
   "nbconvert_exporter": "python",
   "file_extension": ".py"
  },
  "kernelspec": {
   "name": "python3",
   "display_name": "Python 3.8.10 64-bit ('venv': venv)"
  },
  "interpreter": {
   "hash": "628c44b30adaf35d594a601864814b2c705c437772e80254b902afe469bc4472"
  }
 },
 "nbformat": 4,
 "nbformat_minor": 2
}