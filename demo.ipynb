{
 "cells": [
  {
   "cell_type": "code",
   "execution_count": 1,
   "metadata": {},
   "outputs": [],
   "source": [
    "from smoothie.auth.AuthorizationHandler import AuthorizationHandler\n",
    "from smoothie.data_objects.User import User\n",
    "from smoothie.data_objects.Song import Song\n",
    "from smoothie.data_objects.Playlist import Playlist\n",
    "import aiohttp\n",
    "import urllib\n",
    "import getpass\n",
    "import spotify"
   ]
  },
  {
   "cell_type": "code",
   "execution_count": 29,
   "metadata": {},
   "outputs": [
    {
     "data": {
      "text/plain": [
       "<module 'spotify.playlist_apis' from '/home/jason/projects/smoothie/smoothie/spotify/playlist_apis.py'>"
      ]
     },
     "execution_count": 29,
     "metadata": {},
     "output_type": "execute_result"
    }
   ],
   "source": [
    "# Reimport any changes\n",
    "import importlib\n",
    "importlib.reload(spotify.playlist_apis)"
   ]
  },
  {
   "cell_type": "code",
   "execution_count": 3,
   "metadata": {},
   "outputs": [],
   "source": [
    "session = aiohttp.ClientSession()\n",
    "auth_handler = AuthorizationHandler(session)"
   ]
  },
  {
   "cell_type": "markdown",
   "metadata": {},
   "source": [
    "Since Spotify requires a login page with user interaction, we'll need to perform this first step in a browser page. Copy and paste the result of the next cell into a browser and approve access to your Spotify account."
   ]
  },
  {
   "cell_type": "code",
   "execution_count": 4,
   "metadata": {},
   "outputs": [
    {
     "name": "stdout",
     "output_type": "stream",
     "text": [
      "https://accounts.spotify.com/authorize?client_id=c6571c2bc3f444a18ad0308ab4b712f3&response_type=code&redirect_uri=https%3A%2F%2Fgoogle.com\n"
     ]
    }
   ],
   "source": [
    "print(f'https://accounts.spotify.com/authorize?client_id={auth_handler.spotify_client_id}&response_type=code&redirect_uri={urllib.parse.quote_plus(auth_handler._redirect_uri)}')"
   ]
  },
  {
   "cell_type": "markdown",
   "metadata": {},
   "source": [
    "Now, in the resulting `google.com` url, copy all the text after `code=`, and enter it when prompted in the next cell"
   ]
  },
  {
   "cell_type": "code",
   "execution_count": 8,
   "metadata": {},
   "outputs": [
    {
     "name": "stdout",
     "output_type": "stream",
     "text": [
      "Code from URL? ········\n"
     ]
    }
   ],
   "source": [
    "code = getpass.getpass(prompt='Code from URL? ')\n",
    "me = User(code=code)"
   ]
  },
  {
   "cell_type": "markdown",
   "metadata": {},
   "source": [
    "Get access/refresh tokens for use with future API calls"
   ]
  },
  {
   "cell_type": "code",
   "execution_count": 9,
   "metadata": {
    "scrolled": true
   },
   "outputs": [
    {
     "data": {
      "text/plain": [
       "{'access_token': 'BQBC1rr_ygdFA_-y1a3kkye4ZNLxxTUAwTcNUYrgP7_8iQdZ1RTz560QDoaITS0g2XeBYhxr33uqkKBmyWffhSW3R670duLn4iHpHI6QLvDQqz2I3PSe_PR6-hDi3EzO4cmPdR5dlYkB1KdX_A',\n",
       " 'token_type': 'Bearer',\n",
       " 'expires_in': 3600,\n",
       " 'refresh_token': 'AQAhJMOl-1u7l7AI6UsUAOB6oB0KCoGlONvswSIbu7fC-nmvrxD86ps6moivbl_jy7GTj4YfRlHfJUNXii8adRF6qV-YL9J0uXsezfluSlONVTC8bd6UuIUhFlYTozY4EuE'}"
      ]
     },
     "execution_count": 9,
     "metadata": {},
     "output_type": "execute_result"
    }
   ],
   "source": [
    "await auth_handler.request_access_token(me)"
   ]
  },
  {
   "cell_type": "code",
   "execution_count": 30,
   "metadata": {},
   "outputs": [
    {
     "name": "stdout",
     "output_type": "stream",
     "text": [
      "{'tracks': {'items': [{'added_at': '2018-06-06T18:57:47Z', 'track': {'id': '5iUQMwxUPdJBFeGkePtM66'}}, {'added_at': '2018-06-06T18:58:54Z', 'track': {'id': '1pynf76l80VPFR8pEQRLOu'}}, {'added_at': '2018-06-06T19:00:20Z', 'track': {'id': '6JvfBzqZmSiEG5MjM7OcSY'}}, {'added_at': '2018-06-06T19:00:44Z', 'track': {'id': '1h2LHhmyAXi8tPNLi806JA'}}, {'added_at': '2018-06-06T19:00:49Z', 'track': {'id': '564oa00vY05d1uYnTEAAmE'}}, {'added_at': '2018-06-06T19:00:55Z', 'track': {'id': '6i4SkbWVHe0pEP9PrreQ7A'}}, {'added_at': '2018-06-06T19:01:00Z', 'track': {'id': '67pIYW0MEQWWkNvuXb70vC'}}, {'added_at': '2018-06-06T19:01:06Z', 'track': {'id': '6zWU7YALeEDMcPGhKKZJhV'}}, {'added_at': '2018-06-06T19:01:11Z', 'track': {'id': '3ml3WB66sqG4kXoPBX2POA'}}, {'added_at': '2018-06-06T19:01:15Z', 'track': {'id': '5HycJMEM8MyX4i0ErSeuC4'}}, {'added_at': '2018-06-06T19:02:08Z', 'track': {'id': '7ox2wvSzqTxQQf55Ggobbl'}}, {'added_at': '2018-06-06T19:02:13Z', 'track': {'id': '2p4ARx5nk3b9Jh07ivQR1c'}}, {'added_at': '2018-06-06T19:02:18Z', 'track': {'id': '6n4g9rQE65ZgPQo32mWixM'}}, {'added_at': '2018-06-06T19:02:22Z', 'track': {'id': '3iGNoYKIabGohB9A0C7dKU'}}, {'added_at': '2018-06-06T19:02:44Z', 'track': {'id': '0VaIsQoIQY10uxBrOyZ5cQ'}}, {'added_at': '2018-06-06T19:02:58Z', 'track': {'id': '2Nh2cMryoXl7BrZoIeN2Pr'}}, {'added_at': '2018-06-06T19:03:40Z', 'track': {'id': '4cVJtU3eCwRgoKT4MYnBG9'}}, {'added_at': '2018-06-06T19:03:47Z', 'track': {'id': '0jFGFUFKNuTTRE2j2gSI8Y'}}, {'added_at': '2018-06-06T19:04:04Z', 'track': {'id': '5jyyPsIGM2yqkZN9R3TmvN'}}, {'added_at': '2018-06-06T19:04:19Z', 'track': {'id': '6gigGFhKguOzObNC5QZbeW'}}, {'added_at': '2018-06-06T19:04:30Z', 'track': {'id': '4SivdhwHgTucm4QH27DCWV'}}, {'added_at': '2018-06-06T19:05:30Z', 'track': {'id': '62wEefnHZ9mREiplmWrxF2'}}, {'added_at': '2018-06-06T19:11:19Z', 'track': {'id': '0JBi8HoBEDXNgcMacf4k6d'}}, {'added_at': '2018-06-06T19:13:52Z', 'track': {'id': '2pUrFLAbWbUqZnnSgJ2u5I'}}, {'added_at': '2018-06-06T19:13:58Z', 'track': {'id': '7dZAPeA3Of5j5Vaef0DQ6M'}}, {'added_at': '2018-06-06T19:14:27Z', 'track': {'id': '6tZ3b7ik1QDXFAZlXib0YZ'}}, {'added_at': '2018-06-06T19:15:04Z', 'track': {'id': '2Q0Crvi1cJr1Bhf9Iwugdb'}}, {'added_at': '2018-06-06T19:15:09Z', 'track': {'id': '0ZKCq8E5QS4lRjEtFvZqZX'}}, {'added_at': '2018-06-06T19:15:14Z', 'track': {'id': '3DlgDXIYtnWtJKiB8bZQMv'}}, {'added_at': '2018-06-06T19:15:34Z', 'track': {'id': '3FwAEl4jpfMktpZCKn4rIb'}}, {'added_at': '2018-06-06T19:15:38Z', 'track': {'id': '5vS0exugk3uvkQCqKLWVyD'}}, {'added_at': '2018-06-06T19:15:45Z', 'track': {'id': '2Si7shrUKzMBFEDRTb4LlW'}}, {'added_at': '2018-06-06T19:22:20Z', 'track': {'id': '1pJ8WX94ynlXDV9tI2rdH8'}}, {'added_at': '2018-06-10T00:38:01Z', 'track': {'id': '297rZsBEjFw9d0Gl3iBLnd'}}, {'added_at': '2018-06-13T16:41:31Z', 'track': {'id': '2RISD4aJrioDB54exm5WWM'}}, {'added_at': '2018-06-16T19:36:55Z', 'track': {'id': '6t8GevE5R0ciW06AujEXXr'}}, {'added_at': '2018-06-18T20:28:57Z', 'track': {'id': '1mQI744KrltnCU798zIGEe'}}, {'added_at': '2018-06-19T16:19:25Z', 'track': {'id': '79GsUxLyzxgnN4I1E11dtO'}}, {'added_at': '2018-06-19T19:46:54Z', 'track': {'id': '3SjAiqAQ6sMmsJBeVw0nMf'}}, {'added_at': '2018-06-20T04:40:58Z', 'track': {'id': '1cTZMwcBJT0Ka3UJPXOeeN'}}, {'added_at': '2018-06-20T05:10:09Z', 'track': {'id': '739vCwA3EpBSkk3uDsI2wB'}}, {'added_at': '2018-06-21T01:15:32Z', 'track': {'id': '53l4LGUeZKCDZI1u25kQDN'}}, {'added_at': '2018-06-21T19:54:22Z', 'track': {'id': '3S2LNcyJre3hvJbPTcoghO'}}, {'added_at': '2018-06-22T02:26:45Z', 'track': {'id': '2WWRiGaZ6MwvAMPJHSQfps'}}, {'added_at': '2018-07-03T16:11:25Z', 'track': {'id': '3t9yWxeI5MnMtZ5rvKw315'}}, {'added_at': '2018-07-08T00:20:24Z', 'track': {'id': '1gmarFWgSwb4SWlmqDjWka'}}, {'added_at': '2018-07-09T18:25:39Z', 'track': {'id': '3CMHACJ1rZtTyPnFgXOx8U'}}, {'added_at': '2018-07-12T01:16:15Z', 'track': {'id': '60S3kb6qUdItQYMKS9tM63'}}, {'added_at': '2018-07-18T18:17:00Z', 'track': {'id': '0j77ikAaghcss4idQVcAXT'}}, {'added_at': '2018-07-25T19:43:14Z', 'track': {'id': '68lzZej8EUbJxGqyythz4n'}}, {'added_at': '2018-07-25T19:53:50Z', 'track': {'id': '2sVcw1xyQe44BGnEKLTzJB'}}, {'added_at': '2018-07-25T20:02:43Z', 'track': {'id': '2x5Frs6ts14U4MSLrQQlXg'}}, {'added_at': '2018-07-25T20:40:53Z', 'track': {'id': '2Yer0p7uB2lVBUAtANuuQp'}}, {'added_at': '2018-07-25T21:58:47Z', 'track': {'id': '2mDeWOqdFJLV2zsrTCPG0T'}}, {'added_at': '2018-08-01T06:08:25Z', 'track': {'id': '2vRDFgdJiILUdDOLL8hLH3'}}, {'added_at': '2018-08-10T18:51:28Z', 'track': {'id': '5ckacg1TPKZKkUwfFmSote'}}, {'added_at': '2018-08-31T05:21:40Z', 'track': {'id': '5g1cV8vAkt1ihjwlW8DWrF'}}, {'added_at': '2018-09-23T04:36:49Z', 'track': {'id': '4HW5kSQ8M2IQWZhSxERvla'}}, {'added_at': '2018-09-28T03:53:26Z', 'track': {'id': '1yWSo7UWAuLf3ZHtekAeX0'}}, {'added_at': '2018-09-28T04:04:29Z', 'track': {'id': '7oouU5PibRA0ViQwhbXoLz'}}, {'added_at': '2018-09-28T16:13:40Z', 'track': {'id': '0eWxDnXDbsR4h1kVk6rZdy'}}, {'added_at': '2018-09-28T16:23:33Z', 'track': {'id': '61Ivix5DTnDPVjp1dgLyov'}}, {'added_at': '2018-09-28T19:24:56Z', 'track': {'id': '1Nuun9B54ItTULE6yYE8Ix'}}, {'added_at': '2018-09-28T19:26:44Z', 'track': {'id': '1F1QmI8TMHir9SUFrooq5F'}}, {'added_at': '2018-09-28T19:49:26Z', 'track': {'id': '5Wbjjde5ez7sx22OtmrXKV'}}, {'added_at': '2018-10-01T05:07:53Z', 'track': {'id': '2PKTJ0qAGaavKrhLJuQrRt'}}, {'added_at': '2018-11-01T04:35:49Z', 'track': {'id': '4YY0J1e6xtffVfvxB2CNOo'}}, {'added_at': '2018-11-01T04:40:16Z', 'track': {'id': '4kdtYwv0fOnljcuku3dHQl'}}, {'added_at': '2018-11-02T01:27:18Z', 'track': {'id': '33iiD6MAyhi1e3cTonGp34'}}, {'added_at': '2018-11-03T03:55:08Z', 'track': {'id': '3VZHJvfHJPvxwCGWbSsb3p'}}, {'added_at': '2018-11-07T20:01:52Z', 'track': {'id': '1A6OTy97kk0mMdm78rHsm8'}}, {'added_at': '2018-11-08T18:24:38Z', 'track': {'id': '6OyDjQiFgIX4JnnfQ9zYf8'}}, {'added_at': '2018-11-19T20:20:01Z', 'track': {'id': '6tdAmfHEd4cXEkNbCMgOP9'}}, {'added_at': '2018-11-19T20:36:46Z', 'track': {'id': '2KmYPKHvwG77NAcDpFlLBm'}}, {'added_at': '2018-11-22T18:58:46Z', 'track': {'id': '1eMWxSLN7rDSDSrvKSj8gS'}}, {'added_at': '2018-11-22T18:59:18Z', 'track': {'id': '3LfnrqODEqXpp7s974cT4z'}}, {'added_at': '2018-11-26T20:27:26Z', 'track': {'id': '6F1D4x7Ifrwt5t5MleYFp3'}}, {'added_at': '2018-12-17T22:05:02Z', 'track': {'id': '3RiebNMjrNhskI2jn9AZ20'}}, {'added_at': '2018-12-31T19:27:54Z', 'track': {'id': '2LGR3T1xZwuELcOi6DpMXY'}}, {'added_at': '2019-01-03T18:05:30Z', 'track': {'id': '6TodWdTSDfzwgYynTZSvJn'}}, {'added_at': '2019-01-20T22:39:20Z', 'track': {'id': '6SzbbQUOx85hxpqsesoMfx'}}, {'added_at': '2019-01-25T02:30:37Z', 'track': {'id': '1aPSpiKWnzzkU49dXtrA3Q'}}, {'added_at': '2019-02-26T17:58:36Z', 'track': {'id': '1dN4Z7wZTQXLEl33RkMO3a'}}, {'added_at': '2019-02-28T21:37:45Z', 'track': {'id': '36uIXVbBZYTPaWgxUYupoK'}}, {'added_at': '2019-03-06T18:47:06Z', 'track': {'id': '5TcGBswdHw1Ng9UcQSl0nd'}}, {'added_at': '2019-03-28T06:10:58Z', 'track': {'id': '4z5hU8qz9ZZkN5EQIuj0vx'}}, {'added_at': '2019-04-18T00:50:31Z', 'track': {'id': '0YTE1RJ69I7UfIxU8Y38NX'}}, {'added_at': '2019-04-19T16:06:22Z', 'track': {'id': '0rTg7hbhEYFNKNozvtwIDd'}}, {'added_at': '2019-04-24T01:45:39Z', 'track': {'id': '0Psz3az3RIYfJpnsajBT8N'}}, {'added_at': '2019-04-26T19:44:33Z', 'track': {'id': '5MZQIjtghyFc4sMVUzD7MD'}}, {'added_at': '2019-04-26T19:44:41Z', 'track': {'id': '0xjpgDNFyekbjessCBaaBq'}}, {'added_at': '2019-04-26T19:49:14Z', 'track': {'id': '7BZtzkbV48eu0sGKhHP7R9'}}, {'added_at': '2019-04-26T19:53:07Z', 'track': {'id': '6nBQFAIVFmAx2oZ8p6lUg6'}}, {'added_at': '2019-05-02T01:21:49Z', 'track': {'id': '68UwqWt98BW1QdDnGV9DO1'}}, {'added_at': '2019-05-02T01:29:10Z', 'track': {'id': '1P9KFw6u4vX7hbFcFZd1yL'}}, {'added_at': '2019-05-24T10:57:56Z', 'track': {'id': '3DPFmwFtV5ElQaTniLOdgk'}}, {'added_at': '2019-06-14T13:33:15Z', 'track': {'id': '0xYlNtVflZPG1pUbk4qp77'}}, {'added_at': '2019-06-14T13:33:26Z', 'track': {'id': '7d4WkbOVqZ8KeQxtjTL3zi'}}, {'added_at': '2019-06-27T20:45:16Z', 'track': {'id': '3xaugmCyXrVkrDTXbFkMW3'}}, {'added_at': '2019-06-27T20:53:41Z', 'track': {'id': '4eqrNsKy9Mvg1fvfsTVIAE'}}, {'added_at': '2018-06-06T18:57:47Z', 'track': {'id': '5iUQMwxUPdJBFeGkePtM66'}}, {'added_at': '2018-06-06T18:58:54Z', 'track': {'id': '1pynf76l80VPFR8pEQRLOu'}}, {'added_at': '2018-06-06T19:00:20Z', 'track': {'id': '6JvfBzqZmSiEG5MjM7OcSY'}}, {'added_at': '2018-06-06T19:00:44Z', 'track': {'id': '1h2LHhmyAXi8tPNLi806JA'}}, {'added_at': '2018-06-06T19:00:49Z', 'track': {'id': '564oa00vY05d1uYnTEAAmE'}}, {'added_at': '2018-06-06T19:00:55Z', 'track': {'id': '6i4SkbWVHe0pEP9PrreQ7A'}}, {'added_at': '2018-06-06T19:01:00Z', 'track': {'id': '67pIYW0MEQWWkNvuXb70vC'}}, {'added_at': '2018-06-06T19:01:06Z', 'track': {'id': '6zWU7YALeEDMcPGhKKZJhV'}}, {'added_at': '2018-06-06T19:01:11Z', 'track': {'id': '3ml3WB66sqG4kXoPBX2POA'}}, {'added_at': '2018-06-06T19:01:15Z', 'track': {'id': '5HycJMEM8MyX4i0ErSeuC4'}}, {'added_at': '2018-06-06T19:02:08Z', 'track': {'id': '7ox2wvSzqTxQQf55Ggobbl'}}, {'added_at': '2018-06-06T19:02:13Z', 'track': {'id': '2p4ARx5nk3b9Jh07ivQR1c'}}, {'added_at': '2018-06-06T19:02:18Z', 'track': {'id': '6n4g9rQE65ZgPQo32mWixM'}}, {'added_at': '2018-06-06T19:02:22Z', 'track': {'id': '3iGNoYKIabGohB9A0C7dKU'}}, {'added_at': '2018-06-06T19:02:44Z', 'track': {'id': '0VaIsQoIQY10uxBrOyZ5cQ'}}, {'added_at': '2018-06-06T19:02:58Z', 'track': {'id': '2Nh2cMryoXl7BrZoIeN2Pr'}}, {'added_at': '2018-06-06T19:03:40Z', 'track': {'id': '4cVJtU3eCwRgoKT4MYnBG9'}}, {'added_at': '2018-06-06T19:03:47Z', 'track': {'id': '0jFGFUFKNuTTRE2j2gSI8Y'}}, {'added_at': '2018-06-06T19:04:04Z', 'track': {'id': '5jyyPsIGM2yqkZN9R3TmvN'}}, {'added_at': '2018-06-06T19:04:19Z', 'track': {'id': '6gigGFhKguOzObNC5QZbeW'}}, {'added_at': '2018-06-06T19:04:30Z', 'track': {'id': '4SivdhwHgTucm4QH27DCWV'}}, {'added_at': '2018-06-06T19:05:30Z', 'track': {'id': '62wEefnHZ9mREiplmWrxF2'}}, {'added_at': '2018-06-06T19:11:19Z', 'track': {'id': '0JBi8HoBEDXNgcMacf4k6d'}}, {'added_at': '2018-06-06T19:13:52Z', 'track': {'id': '2pUrFLAbWbUqZnnSgJ2u5I'}}, {'added_at': '2018-06-06T19:13:58Z', 'track': {'id': '7dZAPeA3Of5j5Vaef0DQ6M'}}, {'added_at': '2018-06-06T19:14:27Z', 'track': {'id': '6tZ3b7ik1QDXFAZlXib0YZ'}}, {'added_at': '2018-06-06T19:15:04Z', 'track': {'id': '2Q0Crvi1cJr1Bhf9Iwugdb'}}, {'added_at': '2018-06-06T19:15:09Z', 'track': {'id': '0ZKCq8E5QS4lRjEtFvZqZX'}}, {'added_at': '2018-06-06T19:15:14Z', 'track': {'id': '3DlgDXIYtnWtJKiB8bZQMv'}}, {'added_at': '2018-06-06T19:15:34Z', 'track': {'id': '3FwAEl4jpfMktpZCKn4rIb'}}, {'added_at': '2018-06-06T19:15:38Z', 'track': {'id': '5vS0exugk3uvkQCqKLWVyD'}}, {'added_at': '2018-06-06T19:15:45Z', 'track': {'id': '2Si7shrUKzMBFEDRTb4LlW'}}, {'added_at': '2018-06-06T19:22:20Z', 'track': {'id': '1pJ8WX94ynlXDV9tI2rdH8'}}, {'added_at': '2018-06-10T00:38:01Z', 'track': {'id': '297rZsBEjFw9d0Gl3iBLnd'}}, {'added_at': '2018-06-13T16:41:31Z', 'track': {'id': '2RISD4aJrioDB54exm5WWM'}}, {'added_at': '2018-06-16T19:36:55Z', 'track': {'id': '6t8GevE5R0ciW06AujEXXr'}}, {'added_at': '2018-06-18T20:28:57Z', 'track': {'id': '1mQI744KrltnCU798zIGEe'}}, {'added_at': '2018-06-19T16:19:25Z', 'track': {'id': '79GsUxLyzxgnN4I1E11dtO'}}, {'added_at': '2018-06-19T19:46:54Z', 'track': {'id': '3SjAiqAQ6sMmsJBeVw0nMf'}}, {'added_at': '2018-06-20T04:40:58Z', 'track': {'id': '1cTZMwcBJT0Ka3UJPXOeeN'}}, {'added_at': '2018-06-20T05:10:09Z', 'track': {'id': '739vCwA3EpBSkk3uDsI2wB'}}, {'added_at': '2018-06-21T01:15:32Z', 'track': {'id': '53l4LGUeZKCDZI1u25kQDN'}}, {'added_at': '2018-06-21T19:54:22Z', 'track': {'id': '3S2LNcyJre3hvJbPTcoghO'}}, {'added_at': '2018-06-22T02:26:45Z', 'track': {'id': '2WWRiGaZ6MwvAMPJHSQfps'}}, {'added_at': '2018-07-03T16:11:25Z', 'track': {'id': '3t9yWxeI5MnMtZ5rvKw315'}}, {'added_at': '2018-07-08T00:20:24Z', 'track': {'id': '1gmarFWgSwb4SWlmqDjWka'}}, {'added_at': '2018-07-09T18:25:39Z', 'track': {'id': '3CMHACJ1rZtTyPnFgXOx8U'}}, {'added_at': '2018-07-12T01:16:15Z', 'track': {'id': '60S3kb6qUdItQYMKS9tM63'}}, {'added_at': '2018-07-18T18:17:00Z', 'track': {'id': '0j77ikAaghcss4idQVcAXT'}}, {'added_at': '2018-07-25T19:43:14Z', 'track': {'id': '68lzZej8EUbJxGqyythz4n'}}, {'added_at': '2018-07-25T19:53:50Z', 'track': {'id': '2sVcw1xyQe44BGnEKLTzJB'}}, {'added_at': '2018-07-25T20:02:43Z', 'track': {'id': '2x5Frs6ts14U4MSLrQQlXg'}}, {'added_at': '2018-07-25T20:40:53Z', 'track': {'id': '2Yer0p7uB2lVBUAtANuuQp'}}, {'added_at': '2018-07-25T21:58:47Z', 'track': {'id': '2mDeWOqdFJLV2zsrTCPG0T'}}, {'added_at': '2018-08-01T06:08:25Z', 'track': {'id': '2vRDFgdJiILUdDOLL8hLH3'}}, {'added_at': '2018-08-10T18:51:28Z', 'track': {'id': '5ckacg1TPKZKkUwfFmSote'}}, {'added_at': '2018-08-31T05:21:40Z', 'track': {'id': '5g1cV8vAkt1ihjwlW8DWrF'}}, {'added_at': '2018-09-23T04:36:49Z', 'track': {'id': '4HW5kSQ8M2IQWZhSxERvla'}}, {'added_at': '2018-09-28T03:53:26Z', 'track': {'id': '1yWSo7UWAuLf3ZHtekAeX0'}}, {'added_at': '2018-09-28T04:04:29Z', 'track': {'id': '7oouU5PibRA0ViQwhbXoLz'}}, {'added_at': '2018-09-28T16:13:40Z', 'track': {'id': '0eWxDnXDbsR4h1kVk6rZdy'}}, {'added_at': '2018-09-28T16:23:33Z', 'track': {'id': '61Ivix5DTnDPVjp1dgLyov'}}, {'added_at': '2018-09-28T19:24:56Z', 'track': {'id': '1Nuun9B54ItTULE6yYE8Ix'}}, {'added_at': '2018-09-28T19:26:44Z', 'track': {'id': '1F1QmI8TMHir9SUFrooq5F'}}, {'added_at': '2018-09-28T19:49:26Z', 'track': {'id': '5Wbjjde5ez7sx22OtmrXKV'}}, {'added_at': '2018-10-01T05:07:53Z', 'track': {'id': '2PKTJ0qAGaavKrhLJuQrRt'}}, {'added_at': '2018-11-01T04:35:49Z', 'track': {'id': '4YY0J1e6xtffVfvxB2CNOo'}}, {'added_at': '2018-11-01T04:40:16Z', 'track': {'id': '4kdtYwv0fOnljcuku3dHQl'}}, {'added_at': '2018-11-02T01:27:18Z', 'track': {'id': '33iiD6MAyhi1e3cTonGp34'}}, {'added_at': '2018-11-03T03:55:08Z', 'track': {'id': '3VZHJvfHJPvxwCGWbSsb3p'}}, {'added_at': '2018-11-07T20:01:52Z', 'track': {'id': '1A6OTy97kk0mMdm78rHsm8'}}, {'added_at': '2018-11-08T18:24:38Z', 'track': {'id': '6OyDjQiFgIX4JnnfQ9zYf8'}}, {'added_at': '2018-11-19T20:20:01Z', 'track': {'id': '6tdAmfHEd4cXEkNbCMgOP9'}}, {'added_at': '2018-11-19T20:36:46Z', 'track': {'id': '2KmYPKHvwG77NAcDpFlLBm'}}, {'added_at': '2018-11-22T18:58:46Z', 'track': {'id': '1eMWxSLN7rDSDSrvKSj8gS'}}, {'added_at': '2018-11-22T18:59:18Z', 'track': {'id': '3LfnrqODEqXpp7s974cT4z'}}, {'added_at': '2018-11-26T20:27:26Z', 'track': {'id': '6F1D4x7Ifrwt5t5MleYFp3'}}, {'added_at': '2018-12-17T22:05:02Z', 'track': {'id': '3RiebNMjrNhskI2jn9AZ20'}}, {'added_at': '2018-12-31T19:27:54Z', 'track': {'id': '2LGR3T1xZwuELcOi6DpMXY'}}, {'added_at': '2019-01-03T18:05:30Z', 'track': {'id': '6TodWdTSDfzwgYynTZSvJn'}}, {'added_at': '2019-01-20T22:39:20Z', 'track': {'id': '6SzbbQUOx85hxpqsesoMfx'}}, {'added_at': '2019-01-25T02:30:37Z', 'track': {'id': '1aPSpiKWnzzkU49dXtrA3Q'}}, {'added_at': '2019-02-26T17:58:36Z', 'track': {'id': '1dN4Z7wZTQXLEl33RkMO3a'}}, {'added_at': '2019-02-28T21:37:45Z', 'track': {'id': '36uIXVbBZYTPaWgxUYupoK'}}, {'added_at': '2019-03-06T18:47:06Z', 'track': {'id': '5TcGBswdHw1Ng9UcQSl0nd'}}, {'added_at': '2019-03-28T06:10:58Z', 'track': {'id': '4z5hU8qz9ZZkN5EQIuj0vx'}}, {'added_at': '2019-04-18T00:50:31Z', 'track': {'id': '0YTE1RJ69I7UfIxU8Y38NX'}}, {'added_at': '2019-04-19T16:06:22Z', 'track': {'id': '0rTg7hbhEYFNKNozvtwIDd'}}, {'added_at': '2019-04-24T01:45:39Z', 'track': {'id': '0Psz3az3RIYfJpnsajBT8N'}}, {'added_at': '2019-04-26T19:44:33Z', 'track': {'id': '5MZQIjtghyFc4sMVUzD7MD'}}, {'added_at': '2019-04-26T19:44:41Z', 'track': {'id': '0xjpgDNFyekbjessCBaaBq'}}, {'added_at': '2019-04-26T19:49:14Z', 'track': {'id': '7BZtzkbV48eu0sGKhHP7R9'}}, {'added_at': '2019-04-26T19:53:07Z', 'track': {'id': '6nBQFAIVFmAx2oZ8p6lUg6'}}, {'added_at': '2019-05-02T01:21:49Z', 'track': {'id': '68UwqWt98BW1QdDnGV9DO1'}}, {'added_at': '2019-05-02T01:29:10Z', 'track': {'id': '1P9KFw6u4vX7hbFcFZd1yL'}}, {'added_at': '2019-05-24T10:57:56Z', 'track': {'id': '3DPFmwFtV5ElQaTniLOdgk'}}, {'added_at': '2019-06-14T13:33:15Z', 'track': {'id': '0xYlNtVflZPG1pUbk4qp77'}}, {'added_at': '2019-06-14T13:33:26Z', 'track': {'id': '7d4WkbOVqZ8KeQxtjTL3zi'}}, {'added_at': '2019-06-27T20:45:16Z', 'track': {'id': '3xaugmCyXrVkrDTXbFkMW3'}}, {'added_at': '2019-06-27T20:53:41Z', 'track': {'id': '4eqrNsKy9Mvg1fvfsTVIAE'}}], 'next': 'https://api.spotify.com/v1/playlists/2q0JuTbFGfFKPmXe04BEVr/tracks?offset=100&limit=100'}}\n",
      "{}\n"
     ]
    },
    {
     "ename": "KeyError",
     "evalue": "'tracks'",
     "output_type": "error",
     "traceback": [
      "\u001b[0;31m---------------------------------------------------------------------------\u001b[0m",
      "\u001b[0;31mKeyError\u001b[0m                                  Traceback (most recent call last)",
      "\u001b[0;32m/tmp/ipykernel_4759/1820103382.py\u001b[0m in \u001b[0;36m<module>\u001b[0;34m\u001b[0m\n\u001b[1;32m      5\u001b[0m \u001b[0;34m\u001b[0m\u001b[0m\n\u001b[1;32m      6\u001b[0m \u001b[0;32mfor\u001b[0m \u001b[0mplaylist\u001b[0m \u001b[0;32min\u001b[0m \u001b[0mplaylist_list\u001b[0m\u001b[0;34m:\u001b[0m\u001b[0;34m\u001b[0m\u001b[0;34m\u001b[0m\u001b[0m\n\u001b[0;32m----> 7\u001b[0;31m     \u001b[0mtrack_list\u001b[0m \u001b[0;34m=\u001b[0m \u001b[0;32mawait\u001b[0m \u001b[0mspotify\u001b[0m\u001b[0;34m.\u001b[0m\u001b[0mplaylist_apis\u001b[0m\u001b[0;34m.\u001b[0m\u001b[0mget_playlist\u001b[0m\u001b[0;34m(\u001b[0m\u001b[0msession\u001b[0m\u001b[0;34m,\u001b[0m \u001b[0mme\u001b[0m\u001b[0;34m,\u001b[0m \u001b[0mplaylist\u001b[0m\u001b[0;34m[\u001b[0m\u001b[0;34m'id'\u001b[0m\u001b[0;34m]\u001b[0m\u001b[0;34m)\u001b[0m\u001b[0;34m\u001b[0m\u001b[0;34m\u001b[0m\u001b[0m\n\u001b[0m\u001b[1;32m      8\u001b[0m     \u001b[0;32mfor\u001b[0m \u001b[0mi\u001b[0m \u001b[0;32min\u001b[0m \u001b[0mrange\u001b[0m\u001b[0;34m(\u001b[0m\u001b[0mint\u001b[0m\u001b[0;34m(\u001b[0m\u001b[0mlen\u001b[0m\u001b[0;34m(\u001b[0m\u001b[0mtrack_list\u001b[0m\u001b[0;34m)\u001b[0m \u001b[0;34m/\u001b[0m \u001b[0;36m100\u001b[0m \u001b[0;34m+\u001b[0m \u001b[0;36m1\u001b[0m\u001b[0;34m)\u001b[0m\u001b[0;34m)\u001b[0m\u001b[0;34m:\u001b[0m\u001b[0;34m\u001b[0m\u001b[0;34m\u001b[0m\u001b[0m\n\u001b[1;32m      9\u001b[0m         \u001b[0mid_list\u001b[0m \u001b[0;34m=\u001b[0m \u001b[0;34m[\u001b[0m\u001b[0mtrack\u001b[0m\u001b[0;34m[\u001b[0m\u001b[0;34m'track'\u001b[0m\u001b[0;34m]\u001b[0m\u001b[0;34m[\u001b[0m\u001b[0;34m'id'\u001b[0m\u001b[0;34m]\u001b[0m \u001b[0;32mfor\u001b[0m \u001b[0mtrack\u001b[0m \u001b[0;32min\u001b[0m \u001b[0mtrack_list\u001b[0m\u001b[0;34m[\u001b[0m\u001b[0;36m100\u001b[0m \u001b[0;34m*\u001b[0m \u001b[0mi\u001b[0m\u001b[0;34m:\u001b[0m \u001b[0mmin\u001b[0m\u001b[0;34m(\u001b[0m\u001b[0;36m100\u001b[0m\u001b[0;34m*\u001b[0m\u001b[0;34m(\u001b[0m\u001b[0mi\u001b[0m\u001b[0;34m+\u001b[0m\u001b[0;36m1\u001b[0m\u001b[0;34m)\u001b[0m\u001b[0;34m,\u001b[0m \u001b[0mlen\u001b[0m\u001b[0;34m(\u001b[0m\u001b[0mtrack_list\u001b[0m\u001b[0;34m)\u001b[0m\u001b[0;34m)\u001b[0m\u001b[0;34m]\u001b[0m\u001b[0;34m]\u001b[0m\u001b[0;34m\u001b[0m\u001b[0;34m\u001b[0m\u001b[0m\n",
      "\u001b[0;32m~/projects/smoothie/smoothie/spotify/playlist_apis.py\u001b[0m in \u001b[0;36mget_playlist\u001b[0;34m(session, user, playlist_id)\u001b[0m\n\u001b[1;32m     27\u001b[0m     \u001b[0;31m# print(playlist)\u001b[0m\u001b[0;34m\u001b[0m\u001b[0;34m\u001b[0m\u001b[0;34m\u001b[0m\u001b[0m\n\u001b[1;32m     28\u001b[0m \u001b[0;34m\u001b[0m\u001b[0m\n\u001b[0;32m---> 29\u001b[0;31m     \u001b[0;32mwhile\u001b[0m \u001b[0;34m'next'\u001b[0m \u001b[0;32min\u001b[0m \u001b[0mresponse\u001b[0m\u001b[0;34m[\u001b[0m\u001b[0;34m'tracks'\u001b[0m\u001b[0;34m]\u001b[0m \u001b[0;32mand\u001b[0m \u001b[0mresponse\u001b[0m\u001b[0;34m[\u001b[0m\u001b[0;34m'tracks'\u001b[0m\u001b[0;34m]\u001b[0m\u001b[0;34m[\u001b[0m\u001b[0;34m'next'\u001b[0m\u001b[0;34m]\u001b[0m\u001b[0;34m:\u001b[0m\u001b[0;34m\u001b[0m\u001b[0;34m\u001b[0m\u001b[0m\n\u001b[0m\u001b[1;32m     30\u001b[0m         \u001b[0;31m# print(response)\u001b[0m\u001b[0;34m\u001b[0m\u001b[0;34m\u001b[0m\u001b[0;34m\u001b[0m\u001b[0m\n\u001b[1;32m     31\u001b[0m         \u001b[0mresponse_tmp\u001b[0m \u001b[0;34m=\u001b[0m \u001b[0;32mawait\u001b[0m \u001b[0mspotify_get\u001b[0m\u001b[0;34m(\u001b[0m\u001b[0msession\u001b[0m\u001b[0;34m,\u001b[0m \u001b[0mresponse\u001b[0m\u001b[0;34m[\u001b[0m\u001b[0;34m'tracks'\u001b[0m\u001b[0;34m]\u001b[0m\u001b[0;34m[\u001b[0m\u001b[0;34m'next'\u001b[0m\u001b[0;34m]\u001b[0m\u001b[0;34m,\u001b[0m \u001b[0mheaders\u001b[0m\u001b[0;34m=\u001b[0m\u001b[0mheaders\u001b[0m\u001b[0;34m,\u001b[0m \u001b[0mparams\u001b[0m\u001b[0;34m=\u001b[0m\u001b[0mparams\u001b[0m\u001b[0;34m)\u001b[0m\u001b[0;34m\u001b[0m\u001b[0;34m\u001b[0m\u001b[0m\n",
      "\u001b[0;31mKeyError\u001b[0m: 'tracks'"
     ]
    }
   ],
   "source": [
    "await spotify.user_apis.get_profile(session, me)\n",
    "playlist_list = await spotify.playlist_apis.get_current_users_playlists(session, me)\n",
    "\n",
    "audio_features = []\n",
    "\n",
    "for playlist in playlist_list:\n",
    "    track_list = await spotify.playlist_apis.get_playlist(session, me, playlist['id'])\n",
    "    for i in range(int(len(track_list) / 100 + 1)):\n",
    "        id_list = [track['track']['id'] for track in track_list[100 * i: min(100*(i+1), len(track_list))]]\n",
    "        if not id_list:\n",
    "            print(id_list)\n",
    "            print(len(track_list))\n",
    "            print(i)\n",
    "        _audio_features = await spotify.track_apis.get_audio_features_for_several_tracks(session, me, id_list)\n",
    "        audio_features += _audio_features\n",
    "\n",
    "print(audio_features)\n"
   ]
  },
  {
   "cell_type": "code",
   "execution_count": null,
   "metadata": {},
   "outputs": [],
   "source": [
    "songs = [Song(audio_feature) for audio_feature in audio_features]\n",
    "playlist = Playlist()\n",
    "playlist.add_songs(songs)"
   ]
  }
 ],
 "metadata": {
  "interpreter": {
   "hash": "628c44b30adaf35d594a601864814b2c705c437772e80254b902afe469bc4472"
  },
  "kernelspec": {
   "display_name": "Python 3 (ipykernel)",
   "language": "python",
   "name": "python3"
  },
  "language_info": {
   "codemirror_mode": {
    "name": "ipython",
    "version": 3
   },
   "file_extension": ".py",
   "mimetype": "text/x-python",
   "name": "python",
   "nbconvert_exporter": "python",
   "pygments_lexer": "ipython3",
   "version": "3.8.10"
  }
 },
 "nbformat": 4,
 "nbformat_minor": 2
}
